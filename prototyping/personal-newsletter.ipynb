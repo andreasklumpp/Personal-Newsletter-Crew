{
 "cells": [
  {
   "cell_type": "markdown",
   "id": "9ff42467",
   "metadata": {},
   "source": [
    "# Prototyping Personal Newsletter\n"
   ]
  },
  {
   "cell_type": "code",
   "execution_count": 20,
   "id": "e060205e",
   "metadata": {},
   "outputs": [],
   "source": [
    "from dotenv import load_dotenv\n",
    "from agents.mcp import MCPServerStdio\n",
    "from datetime import datetime\n",
    "from agents import Agent, Runner, trace\n",
    "from IPython.display import display, Markdown\n",
    "import os"
   ]
  },
  {
   "cell_type": "code",
   "execution_count": 21,
   "id": "e4841210",
   "metadata": {},
   "outputs": [
    {
     "data": {
      "text/plain": [
       "True"
      ]
     },
     "execution_count": 21,
     "metadata": {},
     "output_type": "execute_result"
    }
   ],
   "source": [
    "load_dotenv(override=True)"
   ]
  },
  {
   "cell_type": "code",
   "execution_count": 29,
   "id": "c7eb48ba",
   "metadata": {},
   "outputs": [],
   "source": [
    "from agents import enable_verbose_stdout_logging\n",
    "\n",
    "enable_verbose_stdout_logging()"
   ]
  },
  {
   "cell_type": "code",
   "execution_count": 22,
   "id": "02edaee7",
   "metadata": {},
   "outputs": [
    {
     "data": {
      "text/plain": [
       "[Tool(name='google_search', title=None, description='Search Google for results', inputSchema={'properties': {'q': {'description': 'The query to search for', 'title': 'Q', 'type': 'string'}, 'gl': {'anyOf': [{'type': 'string'}, {'type': 'null'}], 'default': None, 'description': 'The country to search in, e.g. us, uk, ca, au, etc.', 'title': 'Gl'}, 'location': {'anyOf': [{'type': 'string'}, {'type': 'null'}], 'default': None, 'description': 'The location to search in, e.g. San Francisco, CA, USA', 'title': 'Location'}, 'hl': {'anyOf': [{'type': 'string'}, {'type': 'null'}], 'default': None, 'description': 'The language to search in, e.g. en, es, fr, de, etc.', 'title': 'Hl'}, 'page': {'anyOf': [{'pattern': '^[1-9]\\\\d*$', 'type': 'string'}, {'type': 'null'}], 'default': '1', 'description': 'The page number to return, first page is 1 (integer value as string)', 'title': 'Page'}, 'tbs': {'anyOf': [{'type': 'string'}, {'type': 'null'}], 'default': None, 'description': 'The time period to search in, e.g. d, w, m, y', 'title': 'Tbs'}, 'num': {'default': '10', 'description': 'The number of results to return, max is 100 (integer value as string)', 'pattern': '^([1-9]|[1-9]\\\\d|100)$', 'title': 'Num', 'type': 'string'}}, 'required': ['q'], 'title': 'SearchRequest', 'type': 'object'}, outputSchema=None, icons=None, annotations=None, meta=None),\n",
       " Tool(name='google_search_images', title=None, description='Search Google for results', inputSchema={'properties': {'q': {'description': 'The query to search for', 'title': 'Q', 'type': 'string'}, 'gl': {'anyOf': [{'type': 'string'}, {'type': 'null'}], 'default': None, 'description': 'The country to search in, e.g. us, uk, ca, au, etc.', 'title': 'Gl'}, 'location': {'anyOf': [{'type': 'string'}, {'type': 'null'}], 'default': None, 'description': 'The location to search in, e.g. San Francisco, CA, USA', 'title': 'Location'}, 'hl': {'anyOf': [{'type': 'string'}, {'type': 'null'}], 'default': None, 'description': 'The language to search in, e.g. en, es, fr, de, etc.', 'title': 'Hl'}, 'page': {'anyOf': [{'pattern': '^[1-9]\\\\d*$', 'type': 'string'}, {'type': 'null'}], 'default': '1', 'description': 'The page number to return, first page is 1 (integer value as string)', 'title': 'Page'}, 'tbs': {'anyOf': [{'type': 'string'}, {'type': 'null'}], 'default': None, 'description': 'The time period to search in, e.g. d, w, m, y', 'title': 'Tbs'}, 'num': {'default': '10', 'description': 'The number of results to return, max is 100 (integer value as string)', 'pattern': '^([1-9]|[1-9]\\\\d|100)$', 'title': 'Num', 'type': 'string'}}, 'required': ['q'], 'title': 'SearchRequest', 'type': 'object'}, outputSchema=None, icons=None, annotations=None, meta=None),\n",
       " Tool(name='google_search_videos', title=None, description='Search Google for results', inputSchema={'properties': {'q': {'description': 'The query to search for', 'title': 'Q', 'type': 'string'}, 'gl': {'anyOf': [{'type': 'string'}, {'type': 'null'}], 'default': None, 'description': 'The country to search in, e.g. us, uk, ca, au, etc.', 'title': 'Gl'}, 'location': {'anyOf': [{'type': 'string'}, {'type': 'null'}], 'default': None, 'description': 'The location to search in, e.g. San Francisco, CA, USA', 'title': 'Location'}, 'hl': {'anyOf': [{'type': 'string'}, {'type': 'null'}], 'default': None, 'description': 'The language to search in, e.g. en, es, fr, de, etc.', 'title': 'Hl'}, 'page': {'anyOf': [{'pattern': '^[1-9]\\\\d*$', 'type': 'string'}, {'type': 'null'}], 'default': '1', 'description': 'The page number to return, first page is 1 (integer value as string)', 'title': 'Page'}, 'tbs': {'anyOf': [{'type': 'string'}, {'type': 'null'}], 'default': None, 'description': 'The time period to search in, e.g. d, w, m, y', 'title': 'Tbs'}, 'num': {'default': '10', 'description': 'The number of results to return, max is 100 (integer value as string)', 'pattern': '^([1-9]|[1-9]\\\\d|100)$', 'title': 'Num', 'type': 'string'}}, 'required': ['q'], 'title': 'SearchRequest', 'type': 'object'}, outputSchema=None, icons=None, annotations=None, meta=None),\n",
       " Tool(name='google_search_places', title=None, description='Search Google for results', inputSchema={'properties': {'q': {'description': 'The query to search for', 'title': 'Q', 'type': 'string'}, 'gl': {'anyOf': [{'type': 'string'}, {'type': 'null'}], 'default': None, 'description': 'The country to search in, e.g. us, uk, ca, au, etc.', 'title': 'Gl'}, 'location': {'anyOf': [{'type': 'string'}, {'type': 'null'}], 'default': None, 'description': 'The location to search in, e.g. San Francisco, CA, USA', 'title': 'Location'}, 'hl': {'anyOf': [{'type': 'string'}, {'type': 'null'}], 'default': None, 'description': 'The language to search in, e.g. en, es, fr, de, etc.', 'title': 'Hl'}, 'page': {'anyOf': [{'pattern': '^[1-9]\\\\d*$', 'type': 'string'}, {'type': 'null'}], 'default': '1', 'description': 'The page number to return, first page is 1 (integer value as string)', 'title': 'Page'}, 'autocorrect': {'anyOf': [{'pattern': '^(true|false)$', 'type': 'string'}, {'type': 'null'}], 'default': 'true', 'description': \"Automatically correct (boolean value as string: 'true' or 'false')\", 'title': 'Autocorrect'}}, 'required': ['q'], 'title': 'AutocorrectRequest', 'type': 'object'}, outputSchema=None, icons=None, annotations=None, meta=None),\n",
       " Tool(name='google_search_maps', title=None, description='Search Google for results', inputSchema={'properties': {'q': {'description': 'The query to search for', 'title': 'Q', 'type': 'string'}, 'll': {'anyOf': [{'type': 'string'}, {'type': 'null'}], 'default': None, 'description': 'The GPS position & zoom level', 'title': 'Ll'}, 'placeId': {'anyOf': [{'type': 'string'}, {'type': 'null'}], 'default': None, 'description': 'The place ID to search in', 'title': 'Placeid'}, 'cid': {'anyOf': [{'type': 'string'}, {'type': 'null'}], 'default': None, 'description': 'The CID to search in', 'title': 'Cid'}, 'gl': {'anyOf': [{'type': 'string'}, {'type': 'null'}], 'default': None, 'description': 'The country to search in, e.g. us, uk, ca, au, etc.', 'title': 'Gl'}, 'hl': {'anyOf': [{'type': 'string'}, {'type': 'null'}], 'default': None, 'description': 'The language to search in, e.g. en, es, fr, de, etc.', 'title': 'Hl'}, 'page': {'anyOf': [{'pattern': '^[1-9]\\\\d*$', 'type': 'string'}, {'type': 'null'}], 'default': '1', 'description': 'The page number to return, first page is 1 (integer value as string)', 'title': 'Page'}}, 'required': ['q'], 'title': 'MapsRequest', 'type': 'object'}, outputSchema=None, icons=None, annotations=None, meta=None),\n",
       " Tool(name='google_search_reviews', title=None, description='Search Google for results', inputSchema={'properties': {'fid': {'description': 'The FID', 'title': 'Fid', 'type': 'string'}, 'cid': {'anyOf': [{'type': 'string'}, {'type': 'null'}], 'default': None, 'description': 'The CID to search in', 'title': 'Cid'}, 'placeId': {'anyOf': [{'type': 'string'}, {'type': 'null'}], 'default': None, 'description': 'The place ID to search in', 'title': 'Placeid'}, 'sortBy': {'anyOf': [{'pattern': '^(mostRelevant|newest|highestRating|lowestRating)$', 'type': 'string'}, {'type': 'null'}], 'default': 'mostRelevant', 'description': \"The sort order to use (enum value as string: 'mostRelevant', 'newest', 'highestRating', 'lowestRating')\", 'title': 'Sortby'}, 'topicId': {'anyOf': [{'type': 'string'}, {'type': 'null'}], 'default': None, 'description': 'The topic ID to search in', 'title': 'Topicid'}, 'nextPageToken': {'anyOf': [{'type': 'string'}, {'type': 'null'}], 'default': None, 'description': 'The next page token to use', 'title': 'Nextpagetoken'}, 'gl': {'anyOf': [{'type': 'string'}, {'type': 'null'}], 'default': None, 'description': 'The country to search in, e.g. us, uk, ca, au, etc.', 'title': 'Gl'}, 'hl': {'anyOf': [{'type': 'string'}, {'type': 'null'}], 'default': None, 'description': 'The language to search in, e.g. en, es, fr, de, etc.', 'title': 'Hl'}}, 'required': ['fid'], 'title': 'ReviewsRequest', 'type': 'object'}, outputSchema=None, icons=None, annotations=None, meta=None),\n",
       " Tool(name='google_search_news', title=None, description='Search Google for results', inputSchema={'properties': {'q': {'description': 'The query to search for', 'title': 'Q', 'type': 'string'}, 'gl': {'anyOf': [{'type': 'string'}, {'type': 'null'}], 'default': None, 'description': 'The country to search in, e.g. us, uk, ca, au, etc.', 'title': 'Gl'}, 'location': {'anyOf': [{'type': 'string'}, {'type': 'null'}], 'default': None, 'description': 'The location to search in, e.g. San Francisco, CA, USA', 'title': 'Location'}, 'hl': {'anyOf': [{'type': 'string'}, {'type': 'null'}], 'default': None, 'description': 'The language to search in, e.g. en, es, fr, de, etc.', 'title': 'Hl'}, 'page': {'anyOf': [{'pattern': '^[1-9]\\\\d*$', 'type': 'string'}, {'type': 'null'}], 'default': '1', 'description': 'The page number to return, first page is 1 (integer value as string)', 'title': 'Page'}, 'tbs': {'anyOf': [{'type': 'string'}, {'type': 'null'}], 'default': None, 'description': 'The time period to search in, e.g. d, w, m, y', 'title': 'Tbs'}, 'num': {'default': '10', 'description': 'The number of results to return, max is 100 (integer value as string)', 'pattern': '^([1-9]|[1-9]\\\\d|100)$', 'title': 'Num', 'type': 'string'}}, 'required': ['q'], 'title': 'SearchRequest', 'type': 'object'}, outputSchema=None, icons=None, annotations=None, meta=None),\n",
       " Tool(name='google_search_shopping', title=None, description='Search Google for results', inputSchema={'properties': {'q': {'description': 'The query to search for', 'title': 'Q', 'type': 'string'}, 'gl': {'anyOf': [{'type': 'string'}, {'type': 'null'}], 'default': None, 'description': 'The country to search in, e.g. us, uk, ca, au, etc.', 'title': 'Gl'}, 'location': {'anyOf': [{'type': 'string'}, {'type': 'null'}], 'default': None, 'description': 'The location to search in, e.g. San Francisco, CA, USA', 'title': 'Location'}, 'hl': {'anyOf': [{'type': 'string'}, {'type': 'null'}], 'default': None, 'description': 'The language to search in, e.g. en, es, fr, de, etc.', 'title': 'Hl'}, 'page': {'anyOf': [{'pattern': '^[1-9]\\\\d*$', 'type': 'string'}, {'type': 'null'}], 'default': '1', 'description': 'The page number to return, first page is 1 (integer value as string)', 'title': 'Page'}, 'autocorrect': {'anyOf': [{'pattern': '^(true|false)$', 'type': 'string'}, {'type': 'null'}], 'default': 'true', 'description': \"Automatically correct (boolean value as string: 'true' or 'false')\", 'title': 'Autocorrect'}, 'num': {'default': '10', 'description': 'The number of results to return, max is 100 (integer value as string)', 'pattern': '^([1-9]|[1-9]\\\\d|100)$', 'title': 'Num', 'type': 'string'}}, 'required': ['q'], 'title': 'ShoppingRequest', 'type': 'object'}, outputSchema=None, icons=None, annotations=None, meta=None),\n",
       " Tool(name='google_search_lens', title=None, description='Search Google for results', inputSchema={'properties': {'url': {'description': 'The url to search', 'title': 'Url', 'type': 'string'}, 'gl': {'anyOf': [{'type': 'string'}, {'type': 'null'}], 'default': None, 'description': 'The country to search in, e.g. us, uk, ca, au, etc.', 'title': 'Gl'}, 'hl': {'anyOf': [{'type': 'string'}, {'type': 'null'}], 'default': None, 'description': 'The language to search in, e.g. en, es, fr, de, etc.', 'title': 'Hl'}}, 'required': ['url'], 'title': 'LensRequest', 'type': 'object'}, outputSchema=None, icons=None, annotations=None, meta=None),\n",
       " Tool(name='google_search_scholar', title=None, description='Search Google for results', inputSchema={'properties': {'q': {'description': 'The query to search for', 'title': 'Q', 'type': 'string'}, 'gl': {'anyOf': [{'type': 'string'}, {'type': 'null'}], 'default': None, 'description': 'The country to search in, e.g. us, uk, ca, au, etc.', 'title': 'Gl'}, 'location': {'anyOf': [{'type': 'string'}, {'type': 'null'}], 'default': None, 'description': 'The location to search in, e.g. San Francisco, CA, USA', 'title': 'Location'}, 'hl': {'anyOf': [{'type': 'string'}, {'type': 'null'}], 'default': None, 'description': 'The language to search in, e.g. en, es, fr, de, etc.', 'title': 'Hl'}, 'page': {'anyOf': [{'pattern': '^[1-9]\\\\d*$', 'type': 'string'}, {'type': 'null'}], 'default': '1', 'description': 'The page number to return, first page is 1 (integer value as string)', 'title': 'Page'}, 'autocorrect': {'anyOf': [{'pattern': '^(true|false)$', 'type': 'string'}, {'type': 'null'}], 'default': 'true', 'description': \"Automatically correct (boolean value as string: 'true' or 'false')\", 'title': 'Autocorrect'}}, 'required': ['q'], 'title': 'AutocorrectRequest', 'type': 'object'}, outputSchema=None, icons=None, annotations=None, meta=None),\n",
       " Tool(name='google_search_parents', title=None, description='Search Google for results', inputSchema={'properties': {'q': {'description': 'The query to search for', 'title': 'Q', 'type': 'string'}, 'num': {'default': '10', 'description': 'The number of results to return, max is 100 (integer value as string)', 'pattern': '^([1-9]|[1-9]\\\\d|100)$', 'title': 'Num', 'type': 'string'}, 'page': {'anyOf': [{'pattern': '^[1-9]\\\\d*$', 'type': 'string'}, {'type': 'null'}], 'default': '1', 'description': 'The page number to return, first page is 1 (integer value as string)', 'title': 'Page'}}, 'required': ['q'], 'title': 'ParentsRequest', 'type': 'object'}, outputSchema=None, icons=None, annotations=None, meta=None),\n",
       " Tool(name='google_search_autocomplete', title=None, description='Search Google for results', inputSchema={'properties': {'q': {'description': 'The query to search for', 'title': 'Q', 'type': 'string'}, 'gl': {'anyOf': [{'type': 'string'}, {'type': 'null'}], 'default': None, 'description': 'The country to search in, e.g. us, uk, ca, au, etc.', 'title': 'Gl'}, 'location': {'anyOf': [{'type': 'string'}, {'type': 'null'}], 'default': None, 'description': 'The location to search in, e.g. San Francisco, CA, USA', 'title': 'Location'}, 'hl': {'anyOf': [{'type': 'string'}, {'type': 'null'}], 'default': None, 'description': 'The language to search in, e.g. en, es, fr, de, etc.', 'title': 'Hl'}, 'page': {'anyOf': [{'pattern': '^[1-9]\\\\d*$', 'type': 'string'}, {'type': 'null'}], 'default': '1', 'description': 'The page number to return, first page is 1 (integer value as string)', 'title': 'Page'}, 'autocorrect': {'anyOf': [{'pattern': '^(true|false)$', 'type': 'string'}, {'type': 'null'}], 'default': 'true', 'description': \"Automatically correct (boolean value as string: 'true' or 'false')\", 'title': 'Autocorrect'}}, 'required': ['q'], 'title': 'AutocorrectRequest', 'type': 'object'}, outputSchema=None, icons=None, annotations=None, meta=None),\n",
       " Tool(name='webpage_scrape', title=None, description='Scrape webpage by url', inputSchema={'properties': {'url': {'description': 'The url to scrape', 'title': 'Url', 'type': 'string'}, 'includeMarkdown': {'anyOf': [{'pattern': '^(true|false)$', 'type': 'string'}, {'type': 'null'}], 'default': 'false', 'description': \"Include markdown in the response (boolean value as string: 'true' or 'false')\", 'title': 'Includemarkdown'}}, 'required': ['url'], 'title': 'WebpageRequest', 'type': 'object'}, outputSchema=None, icons=None, annotations=None, meta=None)]"
      ]
     },
     "execution_count": 22,
     "metadata": {},
     "output_type": "execute_result"
    }
   ],
   "source": [
    "# Use the Serper MCP for search\n",
    "fetch_params = {\"command\": \"uvx\", \"args\": [ \"serper-mcp-server\" ], \"env\": {\n",
    "        \"SERPER_API_KEY\": os.getenv(\"SERPER_API_KEY\"),\n",
    "    }\n",
    "}\n",
    "\n",
    "async with MCPServerStdio(params=fetch_params, client_session_timeout_seconds=30) as mcp:\n",
    "        mcp_tools = await mcp.list_tools()\n",
    "\n",
    "mcp_tools"
   ]
  },
  {
   "cell_type": "code",
   "execution_count": 33,
   "id": "9120d916",
   "metadata": {},
   "outputs": [],
   "source": [
    "instructions = \"You are able to search the web for news and briefly summarize the takewaways.\"\n",
    "request = f\"Please research the latest news about startup companies in germany and briefly summarize it. \\\n",
    "    Use your google_search_news tool to find relevant news articles in german. \\\n",
    "    IMPORTANT: Only include news not older than 3 days. \\\n",
    "    For context, the current date is {datetime.now().strftime('%Y-%m-%d')}\"\n",
    "model = \"gpt-4o-mini\""
   ]
  },
  {
   "cell_type": "code",
   "execution_count": 35,
   "id": "84f36266",
   "metadata": {},
   "outputs": [
    {
     "name": "stdout",
     "output_type": "stream",
     "text": [
      "Creating trace News Research with id trace_cdfd7364b3f7421f993e818cdacb6b22\n",
      "Setting current trace: trace_cdfd7364b3f7421f993e818cdacb6b22\n",
      "Creating span <agents.tracing.span_data.MCPListToolsSpanData object at 0x13d3fc750> with id None\n",
      "Creating span <agents.tracing.span_data.AgentSpanData object at 0x13d802a30> with id None\n",
      "Running agent research-agent (turn 1)\n",
      "Creating span <agents.tracing.span_data.ResponseSpanData object at 0x13d2bac50> with id None\n",
      "Calling LLM\n",
      "LLM responded\n",
      "Creating span <agents.tracing.span_data.FunctionSpanData object at 0x13caff930> with id None\n",
      "Invoking MCP tool google_search_news\n",
      "MCP tool google_search_news completed.\n",
      "Creating span <agents.tracing.span_data.MCPListToolsSpanData object at 0x13d45fc50> with id None\n",
      "Running agent research-agent (turn 2)\n",
      "Creating span <agents.tracing.span_data.ResponseSpanData object at 0x13ccc9f10> with id None\n",
      "Calling LLM\n",
      "LLM responded\n",
      "Resetting current trace\n"
     ]
    },
    {
     "data": {
      "text/markdown": [
       "Here are the latest news articles about startups in Germany from the past three days:\n",
       "\n",
       "1. **Immer mehr Unternehmen bauen Stellen ab** (29. September 2025)\n",
       "   - **Link**: [Fuer Gruender](https://www.fuer-gruender.de/blog/gruender-newsticker-september/)\n",
       "   - Summary: A recap of the latest short news regarding startup layoffs, funding programs, and industry updates.\n",
       "  \n",
       "2. **Deutscher Startup Monitor 2025: Kapital bleibt Engpass** (30. September 2025)\n",
       "   - **Link**: [Industrieanzeiger](https://industrieanzeiger.industrie.de/news/deutscher-startup-monitor-2025-kapital-bleibt-engpass/)\n",
       "   - Summary: The latest report indicates that startups in Germany are facing significant challenges in securing funding despite being vital drivers of innovation.\n",
       "\n",
       "3. **Start-up-Szene: Gründer beklagen Bürokratie in Deutschland** (29. September 2025)\n",
       "   - **Link**: [Spiegel](https://www.spiegel.de/wirtschaft/start-up-szene-gruender-beklagen-buerokratie-in-deutschland-a-32f14257-d582-4050-894c-ab50cf85f8e3)\n",
       "   - Summary: Many entrepreneurs are voicing frustrations over bureaucratic hurdles that impede business development compared to the more favorable environment in the USA.\n",
       "\n",
       "4. **Deutscher Startup Monitor 2025: Innovation trotz Unsicherheit** (30. September 2025)\n",
       "   - **Link**: [StartingUp](https://www.starting-up.de/news/wettbewerbe-initiativen-studien/deutscher-startup-monitor-2025-innovation-trotz-unsicherheit.html)\n",
       "   - Summary: The 2025 report highlights that uncertainty continues to loom over the economy, yet startups remain innovative and resilient.\n",
       "\n",
       "5. **Zahl der Start-up-Gründungen steigt trotz Krise kräftig** (1. Oktober 2025)\n",
       "   - **Link**: [tagesschau.de](https://www.tagesschau.de/wirtschaft/unternehmen/startup-gruendungen-krise-100.html)\n",
       "   - Summary: Despite ongoing economic uncertainties, the number of startups founded in Germany has significantly increased, especially in major cities like Berlin and Munich.\n",
       "\n",
       "These articles provide insights into the current state and challenges of the startup ecosystem in Germany, highlighting issues such as funding difficulties, bureaucratic obstacles, and overall resilience amidst economic uncertainty."
      ],
      "text/plain": [
       "<IPython.core.display.Markdown object>"
      ]
     },
     "metadata": {},
     "output_type": "display_data"
    }
   ],
   "source": [
    "from agents import Agent, Runner, trace\n",
    "\n",
    "async with MCPServerStdio(params=fetch_params, client_session_timeout_seconds=30) as mcp:\n",
    "    agent = Agent(name=\"research-agent\", model=model, instructions=instructions, mcp_servers=[mcp])\n",
    "    with trace(\"News Research\"):\n",
    "        result = await Runner.run(agent, request)\n",
    "    display(Markdown(result.final_output))\n"
   ]
  },
  {
   "cell_type": "code",
   "execution_count": null,
   "id": "c39daf33",
   "metadata": {},
   "outputs": [],
   "source": []
  }
 ],
 "metadata": {
  "kernelspec": {
   "display_name": "startup-newsletter-crew",
   "language": "python",
   "name": "python3"
  },
  "language_info": {
   "codemirror_mode": {
    "name": "ipython",
    "version": 3
   },
   "file_extension": ".py",
   "mimetype": "text/x-python",
   "name": "python",
   "nbconvert_exporter": "python",
   "pygments_lexer": "ipython3",
   "version": "3.12.11"
  }
 },
 "nbformat": 4,
 "nbformat_minor": 5
}
